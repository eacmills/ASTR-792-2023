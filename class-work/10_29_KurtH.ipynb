{
 "cells": [
  {
   "cell_type": "markdown",
   "metadata": {},
   "source": [
    "# Lecture notes for 10 29 2020"
   ]
  },
  {
   "cell_type": "markdown",
   "metadata": {},
   "source": [
    "# Today's Lecture Plan:\n",
    "\n",
    "\n",
    "## H$_2$ : The Simplest and Most Complicated Molecule\n",
    "\n",
    "### $\\star$ H$_2$ Formation\n",
    "### $\\star$ H$_2$ Lyman and Werner Bands, Photodissociation, and UV pumping\n",
    "### $\\star$ H$_2$ Self-shielding\n",
    "\n",
    "\n",
    "\n",
    "## Challenge time: H$_2$ cooling rates\n"
   ]
  },
  {
   "cell_type": "code",
   "execution_count": null,
   "metadata": {},
   "outputs": [],
   "source": []
  },
  {
   "cell_type": "markdown",
   "metadata": {},
   "source": [
    "# H$_2$ Formation\n",
    "\n",
    "\n",
    "## Gas-Phase Formation\n",
    "\n",
    "Even though H$_2$ is the simplest molecule, it turns out that it is *not* the easiest molecule to make!\n",
    "\n",
    "The most basic way you might imagine making it: Slam a couple hydrogen atoms together and call it a day.\n",
    "\n",
    "H + H $\\rightarrow$ H$_2$ + $h\\nu$\n",
    "\n",
    "This is an example of a more general type of reaction called radiative association:\n",
    "\n",
    "A + B $\\rightarrow$ AB + $h\\nu$\t\t\t\t\t\n",
    "\n",
    "The trouble with this reaction is not getting two H atoms together: in gas of density $n_H = 10^2$ cm$^{-3}$ and temperature $T = 500$ K, the rate of collisions among H atoms will be (assuming a radius of 1 angstrom or $10^{-8}$ cm):\n",
    "\n",
    "$R_{coll, H} = n_H \\langle \\sigma v \\rangle$\n",
    "\n",
    "$R_{coll, H} = \\displaystyle \\pi (2 r)^2 n_H \\left(\\frac{8 k_B T}{\\pi m_H} \\right)^{1/2}$\n",
    "\n",
    "$R_{coll, H} =\\displaystyle \\pi (2\\times10^{-8})^2 (10^2) \\left(\\frac{8 (1.38\\times10^{-16})(500)}{\\pi (1.67\\times10^{-24})} \\right)^{1/2} = 4\\times10^{-8}$s$^{-1}$\n",
    "\n",
    "for a typical collisional time scale of 0.8 years. \n",
    "\n",
    "When you consider this is the timescale on which any given H atom will be expected to come in contact with another, this would lead to extremely rapid formation of H$_2$!!\n",
    "\n",
    "The problem is that once you do get two H$_2$ molecules close enough together to form a covalent bond, there is an excess energy of formation (this is an exothermic reaction) that must be gotten rid of for the molecule to be stable (and not immediately vibrate to bits). And as we talked about last week, H$_2$ is particularly awful at giving off photons: the chance that it will give off a photon in time to avoid coming apart (e.g., during the duration of the collision) is extremely low. How low?\n",
    "\n",
    "Well, the timescale on which it must give off a photon is $10^{-13}$ s. \n",
    "An appropriate Einstein A for the required quadrupole radiation is 0.38 s$^{-1}$. \n",
    "\n",
    "This means the likelihood of giving off that photon is 3.8$\\times10^{-14}$. When you factor this probability into the collision rate to get a formation rate, the formation rate becomes\n",
    "\n",
    "$R_{2-body} = 1.5\\times 10^{-21}$: now the time for any given H to undergo a collision under these conditions that would make H$_2$ is 20 trillion years: much longer than the age of the universe. \n",
    "\n",
    "There are a few ways to get around this, each with their own challenges. \n",
    "\n",
    "(1) The first way to still make H$_2$ in the gas phase is to require three H atoms to collide, so that the third hydrogen atom can carry away the excess energy from the reaction. This is a three-body interaction, and so requires a very high density to operate efficiently:\n",
    "\n",
    "H + H + H $\\rightarrow$ H$_2$ + H\n",
    "\n",
    "How high a density does this need? Let's just say we would settle for being able to turn H into H$_2$ on the timescale of the age of the universe. \n",
    "\n",
    "Taking the 3-body collision rate (which would basically equal the formation rate, since there is no radiative barrier to forming H$_2$ with this reaction):\n",
    "\n",
    "\n",
    "$R_{3-body} = \\displaystyle \\frac{32 \\pi}{3!} n_H^2 (2r)^5 \\left(\\frac{8 k_B T}{\\pi m_H} \\right)^{1/2}$\n",
    "\n",
    "Setting $\\frac{1}{R_{3-body}}$ to be $10^{10}$ years, \n",
    "\n",
    "$3\\times10^{18}  = \\displaystyle \\frac{32 \\pi}{3!} n_H^2  (2\\times10^{-8})^5 \\left(\\frac{8 (1.38\\times10^{-16})(500)}{\\pi (1.67\\times10^{-24})} \\right)^{1/2}$\n",
    "\n",
    "and $n_H = 10^{25}\\;$ cm$^{-3}$ which is indeed enormous, and not really of much help here. \n",
    "\n",
    "\n",
    "(2) Alternately, we can consider a different two-body reaction pathway: \n",
    "\n",
    "\n",
    "H$^-$ + H $\\rightarrow$ H$_2$ + e$^-$\n",
    "\n",
    "This is called an exchange reaction and it makes a more promising route for forming H$_2$ because now the electron carries away the excess energy of formation, so that this reaction can proceed relatively quickly. The tricky thing is that the rate of this process now also depends on the rate of forming H$^-$:\n",
    "\n",
    "H + e$^-$ $\\rightarrow$ H$^-$ + $h\\nu$\n",
    "\n",
    "This reaction (another radiative association reaction) is slow except at high $T$, so this reaction is usually the limiting factor in forming H$_2$ through the above exchange reaction. Still, all together this is the fastest way to form H$_2$ in the gas phase. \n"
   ]
  },
  {
   "cell_type": "markdown",
   "metadata": {},
   "source": [
    "## Grain-Surface Formation\n",
    "\n",
    "We know that actually there is a lot of $H_2$ around– it is by far (99.99999%) the most\n",
    "common molecule! This means we really need some way to make it efficiently. This brings\n",
    "us to forming H$_2$ on grain surfaces. \n",
    "\n",
    "The basic procedure to make molecules on dust grains is as follows:\n",
    "\n",
    "1. An atom (or molecule) hits a dust grain. This is helped by relatively large dust cross sections (though the number density of dust is fairly low). \n",
    "2. It then has some probability of sticking (the particles sit in small surface potential wells) and remaining on the grain (either due to electrostatic forces, or by forming a chemical bond with the surface). \n",
    "3. Large nuclei tend to stay put in their potential well, and the lighter H atoms hop around, interacting with the particles in other wells. \n",
    "4. Over time, (saturated) molecules then form on the grain surface: H$_2$, H$_2$O, NH$_3$, CH$_4$, CH$_3$OH, H$_2$CO etc. \n",
    "5. The dust grain lattice acts as a third body to stabilize formation of molecule, allows it to release excess energy of formation. \n",
    "\n",
    "\n",
    "To estimate the formation rate, we assume that if an H atom collides with a grain it sticks, and that if it sticks it inevitably meets up with another H atom and forms H$_2$. Then the formation rate on dust grains can be described as\n",
    "\n",
    "$R_{dust} = 0.5 v_H \\sigma_d n_H n_d $\n",
    "\n",
    "We can evaluate this by assuming $v_H$ is just the thermal velocity, taking $n_d = 10^{−12} n_H$\n",
    "and assuming a typical grain radius to be $r_d = 3 \\times 10^{−5}$ cm. Plugging in the same values as before:\n",
    "\n",
    "$R_{dust} = \\displaystyle 0.5 \\left(\\frac{8 k_B T}{\\pi m_H} \\right)^{1/2} (2 \\pi r_d)^2 n_H n_d$\n",
    "\n",
    "$R_{dust} = \\displaystyle 2 \\pi \\left(\\frac{8 (1.38\\times10^{-16})(500)}{\\pi (1.67\\times10^{-24})} \\right)^{1/2} (10^{-5})^2  (10^2)^2 (10^{-12}) = 2\\times10^{-12}$ s$^{-1}$\n",
    "\n",
    "for a MUCH more reasonable formation timescale of 16,000 years. \n"
   ]
  },
  {
   "cell_type": "markdown",
   "metadata": {},
   "source": [
    "## Lyman and Werner Bands \n",
    "\n",
    "We know that a pure-rotational transition from $J$=1 to $J$=0 is not allowed for H$_2$. This can make it difficult to probe the populations of these levels (which will contain the bulk of the H$_2$ molecules) as observing emission from these levels requires that levels $J=2$ and higher are populated, which requires relatively high temperatures ($T > 100$ K.\n",
    "\n",
    "However, it is possible to directly probe the populations of these levels in colder gas via measurements of absorption transitions due to background radiation, where H$_2$ goes from an electronic ground state to an electronically-excited state. These transitions have permitted dipole transitions (so much larger oscillator strengths, meaning they will lead to strong absorption features). Transitions from the electronic ground state to the first electronically-excited state are known as Lyman Band transitions, and transitions from the ground electronic ground state to the second electronically-excited state are known as Werner Band transitions. Looking at cold gas along a line of sight to a strong background radiation source (for example, a quasar or a white dwarf) can then be a good way to directly measure H$_2$ column densities in relatively diffuse gas, and to infer things like the required formation rate of H$_2$.\n",
    "\n",
    "## Photodissociation\n",
    "\n",
    "Note, as these are electronic transitions (and so highly energetic), these absorption lines occur at UV wavelengths. \n",
    "Additionally, because the required photons are so energetic, there is about a 10% chance that absorption through the Lyman or Werner bands will result in the dissociation of H$_2$. Here, instead of decaying back to a low rovibrational state in the electronic round state, it decays into a highly vibrationally-excited bound level of the electronic ground state and then emits a photon at a wavelength between 1200 and 1600 angstroms (the H$_2$ \"vibrational continuum\") as the molecular bond breaks and H$_2$ dissociates. This process, known as photodissociation, occurs in only 10$^{-14}$ s! This is the primary mechanism for the destruction of H$_2$. \n",
    "\n",
    "## UV Pumping\n",
    "\n",
    "For the remaining 90% of cases, the H$_2$ molecule will eventually de-excite by emitting a cascade of radiation as it returns to the electronic ground state, likely ending up in a rotationally-excited state of H$_2$. The phenomenon in which the absorption of UV radiation leads to an enhanced population in the high-$J$ rotational states of H$_2$ is known as pumping. \n",
    "\n",
    "(Note that H$_2$ formation into an excited electronic state is actually another potential way to form H$_2$ in the gas phase, as there are dipole-allowed transitions out of the excited electronic state that are much faster than the rovibrational transitions)\n"
   ]
  },
  {
   "cell_type": "markdown",
   "metadata": {},
   "source": [
    "# H$_2$ Self-Shielding\n",
    "\n",
    "\n",
    "\n",
    "The presence of strong self-shielding can affect the extent to which UV pumping will influence H$_2$ level populations: for high column densities, the level populations will be primarily affected by collisions, and so can be used to measure the kinetic temperature of the gas. In general, when attempting to use H$_2$ rotational lines as a thermometer, the relative populations of the vibrationally-excited levels, the strength of the background radiation field, and the total gas column density must all be closely scrutinized in order to determine whether the rotational level populations are consistent with collisional excitation or whether the population of high-$J$ levels are primarily influenced by this cascade down from the electronically-excited states. \n",
    "\n"
   ]
  },
  {
   "cell_type": "markdown",
   "metadata": {},
   "source": [
    "# H$_2$ Cooling\n",
    "\n",
    "Even though H$_2$ is not a particularly efficient radiator, and H$_2$ can't effectively cool gas down to the temperatures observed in present-day molecular clouds ($T=10-50$ K).  \n",
    "\n",
    "Recall, to be an effective cooling mechanism, collisional cooling requires \n",
    "\n",
    "(1) Frequent collisions that do not require a low-abundance partner \n",
    "\n",
    "(2) The excitation energy must be comparable to or less than the thermal kinetic energy of the gas particles. (The lowest $J$ level of H$_2$ that can radiatively decay has $E \\sim500$ K) \n",
    "\n",
    "(3) There must be a high probability of emitting a photon after being excited \n",
    "\n",
    "H$_2$ fails 2 out of the 3 criterion here, yet H$_2$ collisional cooling is still important in warm ($T>100$ K) molecular gas simply due to the sheer number of H$_2$ molecules that are present in the ISM, which overwhelms the low probability of an individual molecule emitting a photon after excitation (via a quadrupole rather than dipole interaction).  \n",
    "\n",
    "H$_2$ was also an extremely important species for cooling gas in the very early universe, when making the first stars. At that time, there was no carbon, oxygen, or other metals, and no dust, so the only cooling available is from continuum emission, H recombination lines, and H2. Of course, even forming the H$_2$ necessary to cool the gas was difficult then, as dust-mediated formation is out of the question, so one must rely on a slower gas-phase formation route. "
   ]
  },
  {
   "cell_type": "markdown",
   "metadata": {},
   "source": [
    "# Group/Individual Challenge!\n",
    "\n",
    "Find the abundance of H$_2$ in a cloud with density $n_H$ = $10^8$ m$^{-3}$ at a temperature of \n",
    "100 K that is necessary to give a cooling rate equal to that of C$^+$, assuming that \n",
    "$n_e$ = $n_{C+}$ = $10^4$  m$^{-3}$. \n",
    "\n",
    "Assume that at $T$ = 100 K,  \n",
    "\n",
    "$\\Lambda($H$_2) = 10^{-33}$ J s$^{-1}$ per H$_2$ molecule"
   ]
  },
  {
   "cell_type": "code",
   "execution_count": 6,
   "metadata": {},
   "outputs": [],
   "source": [
    "import numpy as np                          # I use this for maths and sometimes arrays.\n",
    "                                            # \"np\" is just an abbreviation since we call this package so often!\n",
    "import pylab                                # I use this for arrays and plotting sometimes\n",
    "import matplotlib\n",
    "import matplotlib.pyplot as plt                    # Standard plotting package\n",
    "import scipy\n",
    "\n",
    "from astropy import units as u              # This one helps with unit conversion\n",
    "from astropy.io import fits\n",
    "\n",
    "\n",
    "                                            # Super important!! \n",
    "                                            # This embeds plots in the Jupyter window \n",
    "                                            # (instead of showing them as pop-ups)\n",
    "%matplotlib inline                             \n",
    "\n",
    "plt.rc('font', family='sans-serif')  # Set plot fonts\n",
    "plt.rc('text', usetex=True)      \n",
    "#plt.rc('text', usetex=False)        # This is a quick fix if you don't have latex on your computer\n",
    "\n",
    "\n"
   ]
  },
  {
   "cell_type": "code",
   "execution_count": 7,
   "metadata": {},
   "outputs": [
    {
     "name": "stdout",
     "output_type": "stream",
     "text": [
      "0.3188152328676114\n"
     ]
    }
   ],
   "source": [
    "T_e = 100\n",
    "n_c = 10**4\n",
    "n_e = 10**4\n",
    "n_H = 10**8\n",
    "cool_H2 = 10**-33\n",
    "cool_C = (8e-33)*n_c*n_e*(T_e**-0.5)*np.e**(-92/T_e)\n",
    "\n",
    "n_H2 = cool_C / cool_H2\n",
    "\n",
    "abundance = n_H2 / n_H\n",
    "\n",
    "print(abundance)"
   ]
  },
  {
   "cell_type": "code",
   "execution_count": null,
   "metadata": {},
   "outputs": [],
   "source": []
  }
 ],
 "metadata": {
  "kernelspec": {
   "display_name": "Python 3",
   "language": "python",
   "name": "python3"
  },
  "language_info": {
   "codemirror_mode": {
    "name": "ipython",
    "version": 3
   },
   "file_extension": ".py",
   "mimetype": "text/x-python",
   "name": "python",
   "nbconvert_exporter": "python",
   "pygments_lexer": "ipython3",
   "version": "3.7.4"
  }
 },
 "nbformat": 4,
 "nbformat_minor": 4
}
