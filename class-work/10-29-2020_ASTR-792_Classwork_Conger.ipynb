{
 "cells": [
  {
   "cell_type": "code",
   "execution_count": 1,
   "metadata": {},
   "outputs": [],
   "source": [
    "import numpy as np\n",
    "from astropy import units as u\n",
    "from matplotlib import pyplot as plt\n",
    "%matplotlib inline"
   ]
  },
  {
   "cell_type": "markdown",
   "metadata": {},
   "source": [
    "Find the abundance of H$_2$ in a cloud with density $n_H$ = $10^8$ m$^{-3}$ at a temperature of 100 K that is necessary to give a cooling rate equal to that of C$^+$, assuming that $n_e$ = $n_{C+}$ = $10^4$ m$^{-3}$.\n",
    "\n",
    "Assume that at $T$ = 100 K,\n",
    "\n",
    "$\\Lambda($H$_2) = 10^{-33}$ J s$^{-1}$ per H$_2$ molecule"
   ]
  },
  {
   "cell_type": "markdown",
   "metadata": {},
   "source": [
    "$\\displaystyle \\Lambda_{ce}(\\mathrm{C}^+) = 8\\times 10^{-33}\\; n_{C+} n_e T_e^{-0.5} \\exp \\left(-\\frac{92\\; \\mathrm{K}}{T_e}\\right)$ J m$^{-3}$ s$^{-1}$\n",
    "\n",
    "10/15/20 lecture notes"
   ]
  },
  {
   "cell_type": "code",
   "execution_count": 18,
   "metadata": {},
   "outputs": [],
   "source": [
    "n_C = 1e4 \n",
    "n_e = n_C\n",
    "T = 100 \n",
    "n_H = 1e8\n",
    "\n",
    "H_2_cooling = 1e-33 #per H_2 molecule\n",
    "C_cooling = (8e-33) * n_C* (n_e*T**(-0.5))*np.exp(-92/T) "
   ]
  },
  {
   "cell_type": "code",
   "execution_count": 19,
   "metadata": {},
   "outputs": [
    {
     "data": {
      "text/plain": [
       "3.188152328676113e-26"
      ]
     },
     "execution_count": 19,
     "metadata": {},
     "output_type": "execute_result"
    }
   ],
   "source": [
    "C_cooling"
   ]
  },
  {
   "cell_type": "code",
   "execution_count": 22,
   "metadata": {},
   "outputs": [
    {
     "name": "stdout",
     "output_type": "stream",
     "text": [
      "0.3188152328676113\n"
     ]
    }
   ],
   "source": [
    "nH2 = C_cooling/H_2_cooling\n",
    "H2_abundance = nH2/n_H\n",
    "print(H2_abundance)"
   ]
  },
  {
   "cell_type": "code",
   "execution_count": null,
   "metadata": {},
   "outputs": [],
   "source": []
  }
 ],
 "metadata": {
  "kernelspec": {
   "display_name": "Python 3",
   "language": "python",
   "name": "python3"
  },
  "language_info": {
   "codemirror_mode": {
    "name": "ipython",
    "version": 3
   },
   "file_extension": ".py",
   "mimetype": "text/x-python",
   "name": "python",
   "nbconvert_exporter": "python",
   "pygments_lexer": "ipython3",
   "version": "3.8.3"
  }
 },
 "nbformat": 4,
 "nbformat_minor": 4
}
