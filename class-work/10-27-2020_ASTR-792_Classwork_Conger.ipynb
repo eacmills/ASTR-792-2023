{
 "cells": [
  {
   "cell_type": "code",
   "execution_count": 1,
   "metadata": {},
   "outputs": [],
   "source": [
    "import numpy as np\n",
    "from astropy import units as u\n",
    "from matplotlib import pyplot as plt\n",
    "%matplotlib inline"
   ]
  },
  {
   "attachments": {
    "image.png": {
     "image/png": "[encoded data removed]"
    }
   },
   "cell_type": "markdown",
   "metadata": {},
   "source": [
    "(HD --> Hydrogen-deuterium)\n",
    "\n",
    "(1) Calculate the energies of the lowest 4 rotational states of HD (including the ground state). Assume an intranuclear separation of 0.0741 nm.\n",
    "\n",
    "(2) Use these to calculate the wavelengths of the lowest two pure-rotational transitions of HD\n",
    "\n",
    "(3) Assuming a rotational level degeneracy of $(2J+1)$, calculate the populations of the $J=1$ and $J=3$ states relative to that of the $J=0$ state at 50 K and at 500 K.\n",
    "\n",
    "![image.png](attachment:image.png)"
   ]
  },
  {
   "cell_type": "code",
   "execution_count": 38,
   "metadata": {},
   "outputs": [
    {
     "name": "stdout",
     "output_type": "stream",
     "text": [
      "[0.         0.01135543 0.03406628 0.06813257 0.11355428] eV\n"
     ]
    }
   ],
   "source": [
    "J = np.array([0,1,2,3,4])\n",
    "hbar = 1.0546e-27 *u.cm**2 *u.g /u.s\n",
    "m_r = (1/((1/1.67e-27) + (1/3.34e-27)) *u.kg).to(u.g)\n",
    "r_0 = (0.0741e-9 * u.m).to(u.cm)\n",
    "I = (r_0**2 * m_r)\n",
    "E_rot = (J*(J+1)*hbar**2/(2*I)).to(u.eV)\n",
    "print(E_rot)"
   ]
  },
  {
   "cell_type": "code",
   "execution_count": 52,
   "metadata": {},
   "outputs": [
    {
     "name": "stdout",
     "output_type": "stream",
     "text": [
      "1 to 0 transition has wavelength 0.0000546 m\n",
      "2 to 1 transition has wavelength 0.0000273 m\n"
     ]
    }
   ],
   "source": [
    "#Use E = hc/lambda to convert from energies to wavelengths\n",
    "E_joules = E_rot.to(u.J)\n",
    "E_1_to_0 = E_joules[1] - E_joules[0]\n",
    "E_2_to_1 = E_joules[2] - E_joules[1]\n",
    "#E = np.array([E_1_to_0,E_2_to_1])\n",
    "h = hbar * np.pi\n",
    "c = (3e8*u.m/u.s).to(u.cm/u.s)\n",
    "print('1 to 0 transition has wavelength', \"{:.7f}\".format((h*c/E_1_to_0).decompose()))\n",
    "print('2 to 1 transition has wavelength', \"{:.7f}\".format((h*c/E_2_to_1).decompose()))"
   ]
  },
  {
   "cell_type": "code",
   "execution_count": 53,
   "metadata": {},
   "outputs": [],
   "source": [
    "#degeneracy = (2J + 1)\n",
    "g_3 = 7\n",
    "g_1 = 3\n",
    "g_0 = 1\n",
    "#can assume, to ~first order, that T_kin = T_exc\n",
    "#use equation 7.8 from Draine, then proceed. Das Ende."
   ]
  },
  {
   "cell_type": "code",
   "execution_count": null,
   "metadata": {},
   "outputs": [],
   "source": []
  }
 ],
 "metadata": {
  "kernelspec": {
   "display_name": "Python 3",
   "language": "python",
   "name": "python3"
  },
  "language_info": {
   "codemirror_mode": {
    "name": "ipython",
    "version": 3
   },
   "file_extension": ".py",
   "mimetype": "text/x-python",
   "name": "python",
   "nbconvert_exporter": "python",
   "pygments_lexer": "ipython3",
   "version": "3.8.3"
  }
 },
 "nbformat": 4,
 "nbformat_minor": 4
}
