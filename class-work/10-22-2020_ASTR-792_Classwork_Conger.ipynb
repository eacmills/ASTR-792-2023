{
 "cells": [
  {
   "cell_type": "code",
   "execution_count": 1,
   "metadata": {},
   "outputs": [],
   "source": [
    "import numpy as np\n",
    "from astropy import units as u"
   ]
  },
  {
   "cell_type": "code",
   "execution_count": 4,
   "metadata": {},
   "outputs": [
    {
     "name": "stdout",
     "output_type": "stream",
     "text": [
      "2.2976264041457206 s\n"
     ]
    }
   ],
   "source": [
    "m_dust = (1.67e-24 * u.g)*(2)*(100) #two protons, 100:1 gas to dust mass ratio\n",
    "n_dust = 36000 * u.cm**(-3) #assuming abundance of 3600 ppm, so 36% of n_h2 gas abundance\n",
    "a = 0.35e-4/2 * u.cm #size converted from microns to centimeters, divided by two to receive radius \n",
    "sigma = np.pi*a**2 #cross-section of dust grain\n",
    "k_b = 1.3807e-16 *u.cm**2 * u.g / u.K / u.s**2\n",
    "T = 150 * u.K\n",
    "velocity = np.sqrt(8*k_b*T/(np.pi*m_dust))\n",
    "time = (1/(n_dust*sigma))/velocity  #time = distance/velocity, or mean-free-path/velocity\n",
    "print(time)"
   ]
  },
  {
   "cell_type": "code",
   "execution_count": 6,
   "metadata": {},
   "outputs": [
    {
     "name": "stdout",
     "output_type": "stream",
     "text": [
      "28871.64500533249 cm\n",
      "ratio of mean free path to distance of Earth to sun is 1.9299227944740972e-09\n"
     ]
    }
   ],
   "source": [
    "mean_free_path = 1/(n_dust*sigma)\n",
    "print(mean_free_path)\n",
    "AU = 1.496e13*u.cm\n",
    "print('ratio of mean free path to distance of Earth to sun is', mean_free_path/AU)"
   ]
  },
  {
   "cell_type": "code",
   "execution_count": null,
   "metadata": {},
   "outputs": [],
   "source": []
  }
 ],
 "metadata": {
  "kernelspec": {
   "display_name": "Python 3",
   "language": "python",
   "name": "python3"
  },
  "language_info": {
   "codemirror_mode": {
    "name": "ipython",
    "version": 3
   },
   "file_extension": ".py",
   "mimetype": "text/x-python",
   "name": "python",
   "nbconvert_exporter": "python",
   "pygments_lexer": "ipython3",
   "version": "3.8.3"
  }
 },
 "nbformat": 4,
 "nbformat_minor": 4
}
