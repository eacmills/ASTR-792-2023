{
 "cells": [
  {
   "cell_type": "markdown",
   "metadata": {},
   "source": [
    "# Classwork Example for 10 27 2020"
   ]
  },
  {
   "cell_type": "markdown",
   "metadata": {},
   "source": [
    "\n",
    "Because the H$_2$ molecule is so hard to observe (see the lecture and the homework for this week: **Draine 8.1 a and c**), if one wants to more directly probe the cool molecular gas, one often uses its isotope, HD. \n",
    "\n",
    "(1) Calculate the energies of the lowest 4 rotational states of HD (including the ground state). Assume an intranuclear separation of 0.0741 nm. \n",
    "\n",
    "(2) Use these to calculate the wavelengths of the lowest two pure-rotational transitions of HD\n",
    "\n",
    "(3) Assuming a rotational level degeneracy of $(2J+1)$, calculate the populations of the $J=1$ and $J=3$ states relative to that of the $J=0$ state at 50 K and at 500 K. \n",
    "\n",
    "\n",
    "\n",
    "\n",
    "\n",
    "\n"
   ]
  },
  {
   "cell_type": "markdown",
   "metadata": {},
   "source": [
    "## Solution:\n",
    "\n",
    "\n"
   ]
  },
  {
   "cell_type": "markdown",
   "metadata": {},
   "source": [
    "## (1)\n",
    "\n",
    "**Begin by calculating $m_r$ and $B_0$**:\n",
    "\n",
    "$m_r = \\displaystyle \\left( \\frac{m_1 m_2)}{m_1 + m_2} \\right)$\n",
    "\n",
    "$m_r = \\displaystyle \\left( \\frac{(1.008) (2.014)}{1.008 + 2.014} \\right)$ amu = $1.12\\times10^{-27}$ kg\n",
    "\n",
    "$B_0 = \\displaystyle \\frac{\\hbar^2}{2 m_r r_0^2}$\n",
    "\n",
    "$B_0 = \\displaystyle \\frac{(1.05\\times10^{-34}\\; \\mathrm{J\\; s})^2}{2 (1.12\\times10^{-27}\\; \\mathrm{kg}) (7.41\\times10^{-11}\\; \\mathrm{m}))^2} = 9\\times10^{-22}$ J = 65 K\n",
    "\n",
    "**Then:**\n",
    "\n",
    "$E_{rot} = B_0\\, J(J+1)\\displaystyle$ \n",
    "\n",
    "$E_{J=0} = 0$ \n",
    "\n",
    "$E_{J=1} = 130$ K\n",
    "\n",
    "$E_{J=2} = 390$ K\n",
    "\n",
    "$E_{J=3} = 780$ K\n",
    "\n",
    "## (2)\n",
    "\n",
    "**Use the definitions of energy in terms of wavelength and temperature:**\n",
    "\n",
    "$E = \\displaystyle \\frac{h c}{\\lambda} = k_B T$\n",
    "\n",
    "$\\lambda = \\displaystyle \\frac{h c}{k_B \\Delta T}$\n",
    "\n",
    "$\\lambda_{J=1-0} = \\displaystyle \\frac{(6.67\\times10^{-34}\\; \\mathrm{J\\; s})(2.998\\times10^8\\; \\mathrm {m \\; s}^{-1})}{(1.38\\times10^{-23}\\; \\mathrm{m}^2\\; \\mathrm{kg}^2\\; \\mathrm{s}^{-2}\\; \\mathrm{K}^{-1})(130\\; \\mathrm{K})} = 111 \\mu $m\n",
    "\n",
    "$\\lambda_{J=2-1} = \\displaystyle \\frac{(6.67\\times10^{-34}\\; \\mathrm{J\\; s})(2.998\\times10^8\\; \\mathrm {m \\; s}^{-1})}{(1.38\\times10^{-23}\\; \\mathrm{m}^2\\; \\mathrm{kg}^2\\; \\mathrm{s}^{-2}\\; \\mathrm{K}^{-1})(260\\; \\mathrm{K})} = 56 \\mu $m\n",
    "\n",
    "## (3)\n",
    "\n",
    "**Use the Boltzmann equation (definition of excitation temperature):**\n",
    "\n",
    "$\\displaystyle \\frac{N_u}{N_l} = \\frac{g_u}{g_l} \\exp{\\left(\\frac{-\\Delta(E)}{kT}\\right)}$\n",
    "\n",
    "\n",
    "**For T = 50 K:**\n",
    "\n",
    "$\\displaystyle \\frac{N_{J=1}}{N_{J=0}} = 3\\times \\exp{\\left(\\frac{-130}{50}\\right)} = 0.22$\n",
    "\n",
    "$\\displaystyle \\frac{N_{J=3}}{N_{J=0}} = 7\\times \\exp{\\left(\\frac{-780}{50}\\right)} = 10^{-6}$\n",
    "\n",
    "**For T = 500 K:**\n",
    "\n",
    "$\\displaystyle \\frac{N_{J=1}}{N_{J=0}} = 3\\times \\exp{\\left(\\frac{-130}{500}\\right)} = 2.3 $\n",
    "\n",
    "$\\displaystyle \\frac{N_{J=3}}{N_{J=0}} = 7\\times \\exp{\\left(\\frac{-780}{500}\\right)} = 0.63 $\n",
    "\n",
    "Note that all of these values compare the population of that level to the population of the ground state level, and so do not reflect the fraction of molecules in that level compared to *all* molecules in any level.\n",
    "\n",
    "The latter calculation would require an assumption of a partition function (e.g., a sum that would yield the total distribution of populations in all levels for an adopted temperature).\n",
    "\n"
   ]
  },
  {
   "cell_type": "code",
   "execution_count": null,
   "metadata": {},
   "outputs": [],
   "source": []
  }
 ],
 "metadata": {
  "kernelspec": {
   "display_name": "Python 3",
   "language": "python",
   "name": "python3"
  },
  "language_info": {
   "codemirror_mode": {
    "name": "ipython",
    "version": 3
   },
   "file_extension": ".py",
   "mimetype": "text/x-python",
   "name": "python",
   "nbconvert_exporter": "python",
   "pygments_lexer": "ipython3",
   "version": "3.7.6"
  }
 },
 "nbformat": 4,
 "nbformat_minor": 4
}
