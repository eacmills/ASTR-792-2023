{
 "cells": [
  {
   "cell_type": "markdown",
   "metadata": {},
   "source": [
    "# Classwork Example for 10 29 2020"
   ]
  },
  {
   "cell_type": "markdown",
   "metadata": {},
   "source": [
    "\n",
    "\n",
    "Find the abundance of H$_2$ in a cloud with density $n_H$ = $10^8$ m$^{-3}$ at a temperature of \n",
    "100 K that is necessary to give a cooling rate equal to that of C$^+$, assuming that \n",
    "$n_e$ = $n_{C+}$ = $10^4$  m$^{-3}$. \n",
    "\n",
    "Assume that at $T$ = 100 K,  \n",
    "\n",
    "$\\Lambda($H$_2) = 10^{-33}$ J s$^{-1}$ per H$_2$ molecule"
   ]
  },
  {
   "cell_type": "markdown",
   "metadata": {},
   "source": [
    "## Solution:\n",
    "\n",
    "The C$^+$ volumetric cooling rate is: \n",
    "\n",
    "$\\displaystyle \\Lambda_{ce}(\\mathrm{C}^+) = 8\\times 10^{-33}\\; n_{C+} n_e T_e^{-0.5} \\exp \\left(-\\frac{92\\; \\mathrm{K}}{T_e}\\right)$ J m$^{-3}$ s$^{-1}$\t\n",
    "\n",
    "The H$_2$ *volumetric* cooling rate will be $n_{H2}$ times the per-molecule cooling rate, or\n",
    "\n",
    "$\\Lambda($H$_2) =  10^{-33} n_{H2} $ J m$^{-3}$ s$^{-1}$\n",
    "\n",
    "Equating these:\n",
    "\n",
    "$10^{-33} n_{H2} = 8\\times 10^{-33}\\; n_{C+} n_e T_e^{-0.5} \\exp \\left(-\\frac{92\\; \\mathrm{K}}{T_e}\\right)$\n",
    "\n",
    "The abundance of H$_2$ relative to H, by number, is given as\n",
    "\n",
    "$X_{H2} = \\displaystyle \\frac{n_{H2}}{n_H}$\n",
    "\n",
    "$X_{H2} \\times n_H = \\displaystyle 8\\; n_{C+} n_e T_e^{-0.5} \\exp \\left(-\\frac{92\\; \\mathrm{K}}{T_e}\\right)$\n",
    "\n",
    "$X_{H2} = \\displaystyle 8 \\frac{(10^4)^2}{10^8} (100)^{-0.5} \\exp \\left(-\\frac{92}{100}\\right)$\n",
    "\n",
    "$X_{H2}= 0.32$"
   ]
  },
  {
   "cell_type": "code",
   "execution_count": null,
   "metadata": {},
   "outputs": [],
   "source": []
  }
 ],
 "metadata": {
  "kernelspec": {
   "display_name": "Python 3",
   "language": "python",
   "name": "python3"
  },
  "language_info": {
   "codemirror_mode": {
    "name": "ipython",
    "version": 3
   },
   "file_extension": ".py",
   "mimetype": "text/x-python",
   "name": "python",
   "nbconvert_exporter": "python",
   "pygments_lexer": "ipython3",
   "version": "3.7.6"
  }
 },
 "nbformat": 4,
 "nbformat_minor": 4
}
