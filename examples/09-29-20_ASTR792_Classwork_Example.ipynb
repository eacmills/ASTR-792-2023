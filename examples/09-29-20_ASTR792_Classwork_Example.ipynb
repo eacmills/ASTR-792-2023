{
 "cells": [
  {
   "cell_type": "markdown",
   "metadata": {},
   "source": [
    "# Classwork Example for 09 29 2020"
   ]
  },
  {
   "cell_type": "markdown",
   "metadata": {},
   "source": [
    "## Solution:\n",
    "\n",
    "For the nebula described in **Draine 15.1**, calculate \n",
    "\n",
    "(1) The ionization time scale\n",
    "\n",
    "Here, the ionization time scale is $\\displaystyle \\tau_i = \\frac{(4/3)\\pi R_S^3 n_H}{Q_0}$ which means we need to calculate $R_S$. \n",
    "\n",
    "$R_S = \\left( \\frac{3 Q_0}{4 \\pi n_H^2 \\alpha_B}\\right)^{1/3}$ so before that we need to calculate $\\alpha_B$. \n",
    "\n",
    "$\\alpha_B = \\displaystyle 2.54 \\times10^{-13} Z^2 \\left(\\frac{T_4}{Z^2}\\right)^{-0.8163 -0.0208 \\ln (T_4/Z^2)}$\n",
    "\n",
    "we know $Z=1$ and $T_4=1$ so $\\alpha_B = \\displaystyle 2.54 \\times10^{-13} $\n",
    "\n",
    "Then \n",
    "\n",
    "$R_S = \\left( \\frac{(3)10^{48.06}}{4 \\pi (10^4)^2 (2.54 \\times10^{-13})}\\right)^{1/3}$ = 1.5e17 cm or  0.05 pc\n",
    "\n",
    "Why so small? The ionizing flux Q is relatively small (this is probably an O9 star) and the electron density is relatively high (making this a compact or ultracompact HII region). \n",
    "\n",
    "The ionization time scale is then\n",
    "\n",
    "$\\displaystyle \\tau_i = \\frac{(4/3)\\pi (1.5\\times10^{17})^3 (10^4)}{10^{48.06}} = 3.9$  years\n",
    "\n",
    "(2) The recombination time scale (assuming Case B recombination)\n",
    "\n",
    "$\\displaystyle \\tau_r = \\frac{1}{10^4 (2.54 \\times10^{-13}) } = 12.5$ years, which is comparable to but slightly longer than the ionization time scale. \n",
    "\n",
    "(3) The sound-crossing time. \n",
    "\n",
    "\n",
    "$\\displaystyle \\tau_{sc} = \\frac{2 R_S}{\\left( \\frac{2kT}{m_H}\\right)^{1/2}} = \\frac{2(1.5\\times10^{15} \\mathrm{m})}{\\left( \\frac{2(1.38\\times10^{-23})(10^4)}{1.67\\times10^{-27}}\\right)^{1/2}} = 7400 $ years. \n",
    "\n",
    "Note that this is long compared to the ionization/recombination time scales, but rather short compared even to the typical lifetimes of ultracompact HII regions, which are $\\sim 10^4 - 10^5$ years. This means that during this stage of HII region evolution, the HII region may be in pressure equilibrium with its surroundings. \n",
    "\n"
   ]
  },
  {
   "cell_type": "code",
   "execution_count": null,
   "metadata": {},
   "outputs": [],
   "source": []
  }
 ],
 "metadata": {
  "kernelspec": {
   "display_name": "Python 3",
   "language": "python",
   "name": "python3"
  },
  "language_info": {
   "codemirror_mode": {
    "name": "ipython",
    "version": 3
   },
   "file_extension": ".py",
   "mimetype": "text/x-python",
   "name": "python",
   "nbconvert_exporter": "python",
   "pygments_lexer": "ipython3",
   "version": "3.7.6"
  }
 },
 "nbformat": 4,
 "nbformat_minor": 4
}
