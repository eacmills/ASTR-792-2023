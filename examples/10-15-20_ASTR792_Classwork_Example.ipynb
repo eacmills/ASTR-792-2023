{
 "cells": [
  {
   "cell_type": "markdown",
   "metadata": {},
   "source": [
    "# Classwork Example for 10 15 2020"
   ]
  },
  {
   "cell_type": "markdown",
   "metadata": {},
   "source": [
    "\n",
    "\n",
    "(1) Find the equilibrium temperature at which you have a balance between heating and cooling in the neutral ISM, if you only consider C+. How does this compare to the temperature of the CNM?\n",
    "* You can assume that $\\alpha_C=10^{-17}$ m$^3$ s$^{-1}$\n",
    "\n",
    "(2) Using the expressions given in the lecture notes, compare the cooling rate for both C+ and O+ for the typical conditions in the WNM, CNM, and WIM. \n",
    "* Assume the fractional ionization is $10^{-4}$ in the CNM, 0.018 in the WNM, and 1 in the WIM. \n",
    "* Also assume that [O/H] is $10^{-4}$ and [C/H] is $3\\times10^{-5}$.\n",
    "\n",
    "\n",
    "(3) Assuming that the ideal gas law is a good description for the ISM gas, do observations show that the assumption that the CNM and WNM are in pressure equilibrium is a good one? What if you compare these to the molecular clouds?\n",
    "\n"
   ]
  },
  {
   "cell_type": "code",
   "execution_count": 2,
   "metadata": {},
   "outputs": [],
   "source": [
    "import numpy as np                          # I use this for maths and sometimes arrays.\n",
    "                                            # \"np\" is just an abbreviation since we call this package so often!\n",
    "import pylab                                # I use this for arrays and plotting sometimes\n",
    "import matplotlib\n",
    "import matplotlib.pyplot as plt                    # Standard plotting package\n",
    "import scipy\n",
    "\n",
    "from astropy import units as u              # This one helps with unit conversion\n",
    "from astropy.io import fits\n",
    "\n",
    "\n",
    "                                            # Super important!! \n",
    "                                            # This embeds plots in the Jupyter window \n",
    "                                            # (instead of showing them as pop-ups)\n",
    "%matplotlib inline                             \n",
    "\n",
    "plt.rc('font', family='sans-serif')  # Set plot fonts\n",
    "plt.rc('text', usetex=True)      \n",
    "#plt.rc('text', usetex=False)        # This is a quick fix if you don't have latex on your computer\n"
   ]
  },
  {
   "cell_type": "markdown",
   "metadata": {},
   "source": [
    "## Solution:"
   ]
  },
  {
   "cell_type": "code",
   "execution_count": 5,
   "metadata": {},
   "outputs": [
    {
     "data": {
      "text/plain": [
       "(0, 1e-35)"
      ]
     },
     "execution_count": 5,
     "metadata": {},
     "output_type": "execute_result"
    },
    {
     "data": {
      "image/png": "[encoded data removed]",
      "text/plain": [
       "<Figure size 432x288 with 1 Axes>"
      ]
     },
     "metadata": {
      "needs_background": "light"
     },
     "output_type": "display_data"
    }
   ],
   "source": [
    "#1 \n",
    "\n",
    "T = np.logspace(1,1.5,num=50)\n",
    "alpha_C = 10**-17 * u.m **3 / u.s\n",
    "E = 1.2 * u.eV\n",
    "Heat = E * alpha_C\n",
    "#print(Heat.si)\n",
    "\n",
    "pylab.figure(1)\n",
    "pylab.axhline(Heat.si.value,color='orange')\n",
    "pylab.plot(T,8e-33 * T**-0.5 * np.exp(-92/T),color='steelblue'); # Cooling function, already in SI units of m^3 W\n",
    "pylab.xlim(10,15)\n",
    "pylab.ylim(0,1e-35)\n"
   ]
  },
  {
   "cell_type": "markdown",
   "metadata": {},
   "source": [
    "### From the plot, we can see that $T_{eq}\\sim$ 13 K "
   ]
  },
  {
   "cell_type": "code",
   "execution_count": 12,
   "metadata": {},
   "outputs": [
    {
     "name": "stdout",
     "output_type": "stream",
     "text": [
      "\n",
      "Cold Neutral Medium:\n",
      "\n",
      "Lambda[C+]: 7.31e-32\n",
      "Lambda[O+]: 1.06e-253\n",
      "\n",
      "Warm Neutral Medium:\n",
      "\n",
      "Lambda[C+]: 8.26e-32\n",
      "Lambda[O+]: 2.47e-31\n",
      "\n",
      "Warm Ionized Medium:\n",
      "\n",
      "Lambda[C+]: 2.14e-28\n",
      "Lambda[O+]: 3.37e-27\n"
     ]
    }
   ],
   "source": [
    "#2 \n",
    "\n",
    "#CNM:\n",
    "T = 75\n",
    "n_H = 30 * 1e6 # convert to per m^-3\n",
    "n_C = 3e-5 * n_H\n",
    "n_O = 1e-4 * n_H\n",
    "n_e = 1e-4 * n_H\n",
    "y_Cp = 1e-4\n",
    "y_Op = 1e-4\n",
    "\n",
    "\n",
    "Lambda_Cp = 8*10**-33*y_Cp * n_C * n_e * T**-0.5 * np.exp(-92/T)\n",
    "Lambda_Op = 1.833*10**-30*y_Op * n_O * n_e * T**-0.5 * np.exp(-3.89*10**4/T)\n",
    "\n",
    "print('')\n",
    "print('Cold Neutral Medium:')\n",
    "print('')\n",
    "print('Lambda[C+]: %1.2e'%Lambda_Cp)\n",
    "print('Lambda[O+]: %1.2e'%Lambda_Op)\n",
    "\n",
    "\n",
    "#WNM:\n",
    "T = 7000\n",
    "n_H = 0.3 * 1e6 # convert to per m^-3\n",
    "n_C = 3e-5 * n_H\n",
    "n_O = 1e-4 * n_H\n",
    "n_e = 0.018 * n_H\n",
    "y_Cp = 0.018\n",
    "y_Op = 0.018\n",
    "\n",
    "\n",
    "Lambda_Cp = 8*10**-33*y_Cp * n_C * n_e * T**-0.5 * np.exp(-92/T)\n",
    "Lambda_Op = 1.833*10**-30*y_Op * n_O * n_e * T**-0.5 * np.exp(-3.89*10**4/T)\n",
    "\n",
    "print('')\n",
    "print('Warm Neutral Medium:')\n",
    "print('')\n",
    "print('Lambda[C+]: %1.2e'%Lambda_Cp)\n",
    "print('Lambda[O+]: %1.2e'%Lambda_Op)\n",
    "\n",
    "#WIM\n",
    "T = 10000\n",
    "n_H = 0.3 * 1e6 # convert to per m^-3\n",
    "n_C = 3e-5 * n_H\n",
    "n_O = 1e-4 * n_H\n",
    "n_e = 1 * n_H\n",
    "y_Cp = 1\n",
    "y_Op = 1\n",
    "\n",
    "\n",
    "Lambda_Cp = 8*10**-33*y_Cp * n_C * n_e * T**-0.5 * np.exp(-92/T)\n",
    "\n",
    "Lambda_Op = 1.833*10**-30*y_Op * n_O * n_e * T**-0.5 * np.exp(-3.89*10**4/T)\n",
    "\n",
    "print('')\n",
    "print('Warm Ionized Medium:')\n",
    "print('')\n",
    "print('Lambda[C+]: %1.2e'%Lambda_Cp)\n",
    "print('Lambda[O+]: %1.2e'%Lambda_Op)"
   ]
  },
  {
   "cell_type": "code",
   "execution_count": 15,
   "metadata": {},
   "outputs": [
    {
     "name": "stdout",
     "output_type": "stream",
     "text": [
      "Pressure(Molecular Gas): 2.0e+05 K / cm^3\n",
      "Pressure(Cold Neutral): 2.2e+03 K / cm^3\n",
      "Pressure(Warm Neutral): 2.1e+03 K / cm^3\n",
      "Pressure(Warm Ionized): 3.0e+03 K / cm^3\n"
     ]
    }
   ],
   "source": [
    "#3\n",
    "\n",
    "#Define pressure as p/k and ignore units so we can just multiply n * T:\n",
    "\n",
    "P_mol = 1e4 * 20\n",
    "P_CNM = 30 * 75\n",
    "P_WNM = 0.3 * 7000\n",
    "P_WIM = 0.3 * 10000\n",
    "\n",
    "print('Pressure(Molecular Gas): %1.1e K / cm^3'%P_mol)\n",
    "print('Pressure(Cold Neutral): %1.1e K / cm^3'%P_CNM)\n",
    "print('Pressure(Warm Neutral): %1.1e K / cm^3'%P_WNM)\n",
    "print('Pressure(Warm Ionized): %1.1e K / cm^3'%P_WIM)\n",
    "\n"
   ]
  },
  {
   "cell_type": "markdown",
   "metadata": {},
   "source": [
    "### The molecular gas is way out of (thermal) presure equilibrium, but the other 3 are in approximate pressure equilibrium. \n",
    "\n",
    "### This is because unlike the other 3 phases, the molecular gas is generally gravitationally bound, which allows it to reach a higher pressure\n"
   ]
  },
  {
   "cell_type": "code",
   "execution_count": null,
   "metadata": {},
   "outputs": [],
   "source": []
  }
 ],
 "metadata": {
  "kernelspec": {
   "display_name": "Python 3",
   "language": "python",
   "name": "python3"
  },
  "language_info": {
   "codemirror_mode": {
    "name": "ipython",
    "version": 3
   },
   "file_extension": ".py",
   "mimetype": "text/x-python",
   "name": "python",
   "nbconvert_exporter": "python",
   "pygments_lexer": "ipython3",
   "version": "3.7.6"
  }
 },
 "nbformat": 4,
 "nbformat_minor": 4
}
