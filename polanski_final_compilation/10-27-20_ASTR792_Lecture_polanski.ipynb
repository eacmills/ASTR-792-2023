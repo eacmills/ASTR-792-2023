{
 "cells": [
  {
   "cell_type": "markdown",
   "metadata": {},
   "source": [
    "# Group/Individual Challenge!\n",
    "\n",
    "Because the H$_2$ molecule is so hard to observe (see the above, and the homework for this week: **Draine 8.1 a and c**), if one wants to more directly probe the cool molecular gas, one often uses its isotope, HD. \n",
    "\n",
    "(1) Calculate the energies of the lowest 4 rotational states of HD (including the ground state). Assume an intranuclear separation of 0.0741 nm. \n",
    "\n",
    "(2) Use these to calculate the wavelengths of the lowest two pure-rotational transitions of HD\n",
    "\n",
    "(3) Assuming a rotational level degeneracy of $(2J+1)$, calculate the populations of the $J=1$ and $J=3$ states relative to that of the $J=0$ state at 50 K and at 500 K. \n",
    "\n",
    "\n",
    "\n",
    "\n",
    "\n",
    "\n"
   ]
  },
  {
   "cell_type": "code",
   "execution_count": 1,
   "metadata": {},
   "outputs": [],
   "source": [
    "import numpy as np                          # I use this for maths and sometimes arrays.\n",
    "                                            # \"np\" is just an abbreviation since we call this package so often!\n",
    "import pylab                                # I use this for arrays and plotting sometimes\n",
    "import matplotlib\n",
    "import matplotlib.pyplot as plt                    # Standard plotting package\n",
    "import scipy\n",
    "\n",
    "from astropy import units as u              # This one helps with unit conversion\n",
    "from astropy.io import fits\n",
    "from astropy import constants as const\n",
    "from IPython.display import display, Math\n",
    "                                            # Super important!! \n",
    "                                            # This embeds plots in the Jupyter window \n",
    "                                            # (instead of showing them as pop-ups)\n",
    "%matplotlib inline                             \n",
    "\n",
    "plt.rc('font', family='sans-serif')  # Set plot fonts\n",
    "plt.rc('text', usetex=True)      \n",
    "plt.rc('text', usetex=False)        # This is a quick fix if you don't have latex on your computer\n",
    "\n",
    "\n"
   ]
  },
  {
   "cell_type": "code",
   "execution_count": 2,
   "metadata": {},
   "outputs": [
    {
     "name": "stdout",
     "output_type": "stream",
     "text": [
      "Energies:\n",
      "J = 1 -> 0 : 0.01134 eV\n",
      "J = 2 -> 0 : 0.03401 eV\n",
      "J = 3 -> 0 : 0.06802 eV\n",
      "J = 4 -> 0 : 0.1134 eV\n"
     ]
    }
   ],
   "source": [
    "#calculating Energies\n",
    "r=0.0741*u.nm\n",
    "B=const.hbar**2*3/4/const.m_p/r**2\n",
    "boltz = 8.617333262e-5 * u.eV / u.K\n",
    "\n",
    "j=np.array([1,2,3,4])\n",
    "E=j*(j+1)*B\n",
    "\n",
    "print(f\"\"\"Energies:\n",
    "J = 1 -> 0 : {E[0].to(u.eV):0.4}\n",
    "J = 2 -> 0 : {E[1].to(u.eV):0.4}\n",
    "J = 3 -> 0 : {E[2].to(u.eV):0.4}\n",
    "J = 4 -> 0 : {E[3].to(u.eV):0.4}\"\"\")\n",
    "\n"
   ]
  },
  {
   "cell_type": "code",
   "execution_count": 3,
   "metadata": {},
   "outputs": [
    {
     "name": "stdout",
     "output_type": "stream",
     "text": [
      "Wavelengths of the Two Lowest Energies:\n",
      "J = 1 -> 0 : E=0.01134 eV, Wavelength=109.36 um\n",
      "J = 2 -> 0 : E=0.03401 eV, Wavelength=36.454 um\n"
     ]
    }
   ],
   "source": [
    "#wavelengths\n",
    "\n",
    "wave=(const.h*const.c)/E\n",
    "\n",
    "print(f\"\"\"Wavelengths of the Two Lowest Energies:\n",
    "J = 1 -> 0 : E={E[0].to(u.eV):0.4}, Wavelength={wave[0].to(u.um):0.5}\n",
    "J = 2 -> 0 : E={E[1].to(u.eV):0.4}, Wavelength={wave[1].to(u.um):0.5}\"\"\")"
   ]
  },
  {
   "cell_type": "code",
   "execution_count": 7,
   "metadata": {},
   "outputs": [
    {
     "name": "stdout",
     "output_type": "stream",
     "text": [
      " \n",
      "Populations Fractions\n",
      "---------------------\n",
      "For T = 50K:\n",
      "J = 0 -> 1 : 0.216\n",
      "J = 0 -> 3 : 9.745e-07\n",
      "\n",
      "For T = 500K:\n",
      "J = 0 -> 1 : 2.306\n",
      "J = 0 -> 3 : 1.444\n",
      "\n",
      "\n"
     ]
    }
   ],
   "source": [
    "#populations\n",
    "\n",
    "#For T=50K\n",
    "T=50*u.K\n",
    "NJ_01_50 = 3 * np.exp(-E[0].to(u.eV)/(boltz*T)) \n",
    "\n",
    "NJ_03_50 = 7 * np.exp(-E[2].to(u.eV)/(boltz*T))\n",
    "\n",
    "#For T=500K\n",
    "T=500*u.K\n",
    "NJ_01_500 = 3 * np.exp(-E[0].to(u.eV)/(boltz*T)) \n",
    "\n",
    "NJ_03_500 = 7 * np.exp(-E[2].to(u.eV)/(boltz*T))\n",
    "\n",
    "print(f\"\"\" \n",
    "Populations Fractions\n",
    "---------------------\n",
    "For T = 50K:\n",
    "J = 0 -> 1 : {NJ_01_50:0.4}\n",
    "J = 0 -> 3 : {NJ_03_50:0.4}\n",
    "\n",
    "For T = 500K:\n",
    "J = 0 -> 1 : {NJ_01_500:0.4}\n",
    "J = 0 -> 3 : {NJ_03_500:0.4}\n",
    "\n",
    "\"\"\")"
   ]
  },
  {
   "cell_type": "markdown",
   "metadata": {},
   "source": [
    "The ratio of states in the upper energylevel compared to the ground stsate increase as the temperature increases, as expected."
   ]
  },
  {
   "cell_type": "code",
   "execution_count": null,
   "metadata": {},
   "outputs": [],
   "source": []
  }
 ],
 "metadata": {
  "kernelspec": {
   "display_name": "Python 3",
   "language": "python",
   "name": "python3"
  },
  "language_info": {
   "codemirror_mode": {
    "name": "ipython",
    "version": 3
   },
   "file_extension": ".py",
   "mimetype": "text/x-python",
   "name": "python",
   "nbconvert_exporter": "python",
   "pygments_lexer": "ipython3",
   "version": "3.7.6"
  }
 },
 "nbformat": 4,
 "nbformat_minor": 4
}
