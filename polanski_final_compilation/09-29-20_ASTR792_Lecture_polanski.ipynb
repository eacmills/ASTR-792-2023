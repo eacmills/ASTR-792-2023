{
 "cells": [
  {
   "cell_type": "markdown",
   "metadata": {},
   "source": [
    "# Group/Individual Challenge!\n",
    "\n",
    "For the nebula described in **Draine 15.1**, calculate \n",
    "\n",
    "(1) The ionization time scale\n",
    "\n",
    "(2) The recombination time scale (assuming Case B recombination)\n",
    "\n",
    "(3) The sound-crossing time. \n",
    "\n",
    "\n",
    "For (1) we take the ionization scale as $\\tau_i = \\frac{(4/3)\\pi R_S^3 n_H}{Q_0}$ with $R_S = \\left( \\frac{3 Q_0}{4 \\pi n_H^2 \\alpha_B}\\right)^{1/3}$\n",
    "\n"
   ]
  },
  {
   "cell_type": "code",
   "execution_count": 6,
   "metadata": {},
   "outputs": [
    {
     "name": "stdout",
     "output_type": "stream",
     "text": [
      "Stromgren Radius = 0.07162 pc,2.21e+17 cm \n",
      "Ionization Timescale = 12.48 yr \n",
      "Recombination Timescale = 12.48 yr, equal to Ionization Timescale, as expected.\n",
      "Sound Crossing Time = 10904.5 yr\n"
     ]
    }
   ],
   "source": [
    "import numpy as np\n",
    "import astropy.units as u\n",
    "import astropy.constants as const\n",
    "\n",
    "\n",
    "#We first calc R_s\n",
    "Q0 = (10**48.06) * (1/u.s)\n",
    "\n",
    "n_H = 1e4 * (u.cm**-3)\n",
    "T = 1e4 * u.K\n",
    "a_B = 2.54e-13 * (u.cm**3 / u.s)\n",
    "\n",
    "R_s = (3*Q0 / (4*np.pi*(n_H**2)*a_B))**(1/3)\n",
    "\n",
    "print(f\"Stromgren Radius = {R_s.to(u.pc):0.4},{R_s.to(u.cm):0.4} \")\n",
    "#ionization timescale\n",
    "\n",
    "t_i = (4/3)*np.pi*(R_s**3)*n_H / Q0\n",
    "print(f\"Ionization Timescale = {t_i.to(u.year):0.4} \")\n",
    "\n",
    "#recombo timescale\n",
    "\n",
    "t_r = 1 / (n_H * a_B)\n",
    "print(f\"Recombination Timescale = {t_r.to(u.year):0.4}, equal to Ionization Timescale, as expected.\")\n",
    "\n",
    "#sound crossing time, we need the sound speed (cs)\n",
    "\n",
    "mh = 1.674e-27 * u.kg\n",
    "cs = np.sqrt(2*const.k_B*T / mh)\n",
    "t_s = 2*R_s / cs\n",
    "print(f\"Sound Crossing Time = {t_s.to(u.year):0.6}\")"
   ]
  },
  {
   "cell_type": "markdown",
   "metadata": {},
   "source": [
    "The ionization/recombination timescale is much shorter than the sound crossing time"
   ]
  },
  {
   "cell_type": "code",
   "execution_count": null,
   "metadata": {},
   "outputs": [],
   "source": []
  }
 ],
 "metadata": {
  "kernelspec": {
   "display_name": "Python 3",
   "language": "python",
   "name": "python3"
  },
  "language_info": {
   "codemirror_mode": {
    "name": "ipython",
    "version": 3
   },
   "file_extension": ".py",
   "mimetype": "text/x-python",
   "name": "python",
   "nbconvert_exporter": "python",
   "pygments_lexer": "ipython3",
   "version": "3.7.6"
  }
 },
 "nbformat": 4,
 "nbformat_minor": 4
}
