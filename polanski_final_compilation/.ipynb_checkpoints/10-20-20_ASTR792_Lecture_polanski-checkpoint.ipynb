{
 "cells": [
  {
   "cell_type": "markdown",
   "metadata": {},
   "source": [
    "# Group/Individual Challenge!\n",
    "\n",
    "## Draine 24.3:\n",
    "\n",
    "Suppose that interstellar dust grains have $Q_{abs}\\propto \\lambda^{-2}$ for $\\lambda > 1 \\mu$m. When exposed to the local interstellar radiation field (LISRF), these grains are heated to $T \\sim$ 18 K and radiate with $\\lambda I_{\\lambda}$ peaking at $\\lambda = 140\\mu$m.\n",
    "In a region where the starlight has the same spectrum as the LISRF but is stronger by a numerical factor U:\n",
    "\n",
    "* What will the grain temperature be if U = $10^3$ ?\n",
    "\n",
    "\n",
    "\n"
   ]
  },
  {
   "cell_type": "code",
   "execution_count": 6,
   "metadata": {},
   "outputs": [],
   "source": [
    "import numpy as np                          # I use this for maths and sometimes arrays.\n",
    "                                            # \"np\" is just an abbreviation since we call this package so often!\n",
    "import pylab                                # I use this for arrays and plotting sometimes\n",
    "import matplotlib\n",
    "import matplotlib.pyplot as plt                    # Standard plotting package\n",
    "import scipy\n",
    "\n",
    "from astropy import units as u              # This one helps with unit conversion\n",
    "from astropy.io import fits\n",
    "from astropy import units as u\n",
    "\n",
    "                                            # Super important!! \n",
    "                                            # This embeds plots in the Jupyter window \n",
    "                                            # (instead of showing them as pop-ups)\n",
    "%matplotlib inline                             \n",
    "\n",
    "plt.rc('font', family='sans-serif')  # Set plot fonts\n",
    "plt.rc('text', usetex=True)      \n",
    "plt.rc('text', usetex=False)        # This is a quick fix if you don't have latex on your computer\n",
    "\n",
    "\n"
   ]
  },
  {
   "cell_type": "code",
   "execution_count": 8,
   "metadata": {},
   "outputs": [
    {
     "name": "stdout",
     "output_type": "stream",
     "text": [
      "The Grain Temperature is 56.9 K\n"
     ]
    }
   ],
   "source": [
    "# Calculating the grain temp\n",
    "\n",
    "temp=18\n",
    "U=1e3\n",
    "grain_temp=temp*U**(1/6)\n",
    "print(f'The Grain Temperature is {grain_temp*u.K:0.3}')"
   ]
  },
  {
   "cell_type": "code",
   "execution_count": null,
   "metadata": {},
   "outputs": [],
   "source": []
  }
 ],
 "metadata": {
  "kernelspec": {
   "display_name": "Python 3",
   "language": "python",
   "name": "python3"
  },
  "language_info": {
   "codemirror_mode": {
    "name": "ipython",
    "version": 3
   },
   "file_extension": ".py",
   "mimetype": "text/x-python",
   "name": "python",
   "nbconvert_exporter": "python",
   "pygments_lexer": "ipython3",
   "version": "3.7.6"
  }
 },
 "nbformat": 4,
 "nbformat_minor": 4
}
