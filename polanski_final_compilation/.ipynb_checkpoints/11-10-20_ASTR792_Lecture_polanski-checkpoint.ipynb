{
 "cells": [
  {
   "cell_type": "markdown",
   "metadata": {},
   "source": [
    "# Group/Individual Challenge!\n",
    "\n",
    "The Boltzmann equation can be used to measure excitation temperature using observations multiple transitions of a molecule (see the **September 08** lecture) :\n",
    "\n",
    "$\\displaystyle \\frac{N_u}{N_l} = \\frac{g_u}{g_l} \\exp\\left(\\frac{E_l - E_u}{k_B T_{ex}}\\right)$\n",
    "\n",
    "(1) Rewrite the Boltzmann equation as a function of $T_{ex}$, log$_{10}(N_u/g_u)$, and log$_{10}(N_l/g_l)$, and put this into the form of a slope of a line, e.g., $m = \\left(\\frac{y_2-y_1}{x_2-x_1}\\right)$ \n",
    "\n",
    "(2) Use this relation to plot the following data set of NH$_3$ observations as a function of $E$. \n",
    "\n",
    "\n",
    "| **(J,K)** | **Energy** | **Column Density**|\n",
    "| :- | :- | :- |\n",
    "|  | $E/k_B$ (K) | $N$ (cm$^{-2}$) |\n",
    "| (8,8)   | 686.8  | $4.8\\times10^{13}$ |\n",
    "| (9,9)   | 852.8  | $6.1\\times10^{13}$ |\n",
    "| (10,10) | 1036.4 | $1.5\\times10^{13}$ |\n",
    "| (11,11) | 1237.6 | $9.0\\times10^{12}$ |\n",
    "| (12,12) | 1456.4 | $1.4\\times10^{13}$ |\n",
    "| (13,13) | 1692.7 | $3.5\\times10^{12}$ |\n",
    "\n",
    "\n",
    "(3) Fit a slope to these data and use this to determine the excitation temperature (Note that for NH$_3$, T$_{ex}$ measured in this way is a good approximation for the true kinetic temperature $T_{kin}$).\n",
    "\n",
    "\n",
    "\n"
   ]
  },
  {
   "cell_type": "code",
   "execution_count": null,
   "metadata": {},
   "outputs": [],
   "source": [
    "import numpy as np                          # I use this for maths and sometimes arrays.\n",
    "                                            # \"np\" is just an abbreviation since we call this package so often!\n",
    "import pylab                                # I use this for arrays and plotting sometimes\n",
    "import matplotlib\n",
    "import matplotlib.pyplot as plt                    # Standard plotting package\n",
    "import scipy\n",
    "\n",
    "from astropy import units as u              # This one helps with unit conversion\n",
    "from astropy.io import fits\n",
    "\n",
    "\n",
    "                                            # Super important!! \n",
    "                                            # This embeds plots in the Jupyter window \n",
    "                                            # (instead of showing them as pop-ups)\n",
    "%matplotlib inline                             \n",
    "\n",
    "plt.rc('font', family='sans-serif')  # Set plot fonts\n",
    "plt.rc('text', usetex=True)      \n",
    "#plt.rc('text', usetex=False)        # This is a quick fix if you don't have latex on your computer\n",
    "\n",
    "\n"
   ]
  },
  {
   "cell_type": "markdown",
   "metadata": {},
   "source": [
    "# Rearranging the Equation\n",
    "\n",
    "Noting that $\\ln{x} = 2.303 \\log{x}$\n",
    "\n",
    "Taking the natural log of both sides and defining $E \\equiv -(E_u - E_l)$, \n",
    "\n",
    "$\\ln{\\frac{N_{u}g_{l}}{N_{l}g_{u}}} = \\frac{-E}{k_B T_{exp}}$\n",
    "\n",
    "$\\ln{\\frac{N_u}{g_u}}-\\ln{\\frac{N_l}{g_l}} = \\frac{-E}{k_B T_{exp}}$\n",
    "\n",
    "Converting to log-base 10:\n",
    "\n",
    "$\\log{\\frac{N_u}{g_u}}-\\log{\\frac{N_l}{g_l}} = \\frac{-E}{2.303 k_B T_{exp}}$\n",
    "\n",
    "The slope of the equation is, \n",
    "\n",
    "$m = \\frac{-1}{2.303  T_{exp}}$"
   ]
  },
  {
   "cell_type": "code",
   "execution_count": null,
   "metadata": {},
   "outputs": [],
   "source": [
    "#Plotting the data\n",
    "\n",
    "#I dont understand how to plot this the way you want us to? Is N in the data N_u or N_l?"
   ]
  }
 ],
 "metadata": {
  "kernelspec": {
   "display_name": "Python 3",
   "language": "python",
   "name": "python3"
  },
  "language_info": {
   "codemirror_mode": {
    "name": "ipython",
    "version": 3
   },
   "file_extension": ".py",
   "mimetype": "text/x-python",
   "name": "python",
   "nbconvert_exporter": "python",
   "pygments_lexer": "ipython3",
   "version": "3.7.6"
  }
 },
 "nbformat": 4,
 "nbformat_minor": 4
}
