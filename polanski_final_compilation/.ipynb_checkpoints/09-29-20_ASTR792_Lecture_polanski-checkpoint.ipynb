{
 "cells": [
  {
   "cell_type": "markdown",
   "metadata": {},
   "source": [
    "# Group/Individual Challenge!\n",
    "\n",
    "For the nebula described in **Draine 15.1**, calculate \n",
    "\n",
    "(1) The ionization time scale\n",
    "\n",
    "(2) The recombination time scale (assuming Case B recombination)\n",
    "\n",
    "(3) The sound-crossing time. \n",
    "\n",
    "\n"
   ]
  },
  {
   "cell_type": "code",
   "execution_count": 15,
   "metadata": {},
   "outputs": [
    {
     "name": "stdout",
     "output_type": "stream",
     "text": [
      "Ionization Timescale = 124.8 yr \n",
      "Recombination Timescale = 124.8 yr, equal to Ionization Timescale, as expected.\n",
      "Sound Crossing Time = 50614.3 yr\n"
     ]
    }
   ],
   "source": [
    "import numpy as np\n",
    "import astropy.units as u\n",
    "import astropy.constants as const\n",
    "\n",
    "#ionization timescale\n",
    "\n",
    "Q0 = (10**48.06) * (1/u.s)\n",
    "#Q1 = 0.0145*Q_0\n",
    "\n",
    "n_H = 1e3 * (u.cm**-3)\n",
    "T = 1e4 * u.K\n",
    "a_B = 2.54e-13 * (u.cm**3 / u.s)\n",
    "\n",
    "R_s = (3*Q0 / (4*np.pi*(n_H**2)*a_B))**(1/3)\n",
    "\n",
    "t_i = (4/3)*np.pi*(R_s**3)*n_H / Q0\n",
    "print(f\"Ionization Timescale = {t_i.to(u.year):0.4} \")\n",
    "\n",
    "#recombo timescale\n",
    "\n",
    "t_r = 1 / (n_H * a_B)\n",
    "print(f\"Recombination Timescale = {t_r.to(u.year):0.4}, equal to Ionization Timescale, as expected.\")\n",
    "\n",
    "#sound crossing time\n",
    "\n",
    "mh = 1.674e-27 * u.kg\n",
    "cs = np.sqrt(2*const.k_B*T / mh)\n",
    "t_s = 2*R_s / cs\n",
    "print(f\"Sound Crossing Time = {t_s.to(u.year):0.6}\")"
   ]
  },
  {
   "cell_type": "code",
   "execution_count": null,
   "metadata": {},
   "outputs": [],
   "source": []
  }
 ],
 "metadata": {
  "kernelspec": {
   "display_name": "Python 3",
   "language": "python",
   "name": "python3"
  },
  "language_info": {
   "codemirror_mode": {
    "name": "ipython",
    "version": 3
   },
   "file_extension": ".py",
   "mimetype": "text/x-python",
   "name": "python",
   "nbconvert_exporter": "python",
   "pygments_lexer": "ipython3",
   "version": "3.7.6"
  }
 },
 "nbformat": 4,
 "nbformat_minor": 4
}
