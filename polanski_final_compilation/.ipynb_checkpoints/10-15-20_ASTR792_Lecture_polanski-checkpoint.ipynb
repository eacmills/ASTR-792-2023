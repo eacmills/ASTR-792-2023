{
 "cells": [
  {
   "cell_type": "markdown",
   "metadata": {},
   "source": [
    "# Group/Individual Challenge!\n",
    "\n",
    "(1) Find the equilibrium temperature at which you have a balance between heating and cooling in the neutral ISM, if you only consider C+. How does this compare to the temperature of the CNM?\n",
    "* You can assume that $\\alpha_C=10^{-17}$ m$^3$ s$^{-1}$\n",
    "\n",
    "(2) Using the expressions given in the lecture notes, compare the cooling rate for both C+ and O+ for the typical conditions in the WNM, CNM, and WIM. \n",
    "* Assume the fractional ionization is $10^{-4}$ in the CNM, 0.018 in the WNM, and 1 in the WIM. \n",
    "* Also assume that [O/H] is $10^{-4}$ and [C/H] is $3\\times10^{-5}$.\n",
    "\n",
    "\n",
    "(3) Assuming that the ideal gas law is a good description for the ISM gas, do observations show that the assumption that the CNM and WNM are in pressure equilibrium is a good one? What if you compare these to the molecular clouds?\n",
    "\n"
   ]
  },
  {
   "cell_type": "code",
   "execution_count": 2,
   "metadata": {},
   "outputs": [],
   "source": [
    "import numpy as np                          # I use this for maths and sometimes arrays.\n",
    "                                            # \"np\" is just an abbreviation since we call this package so often!\n",
    "import pylab                                # I use this for arrays and plotting sometimes\n",
    "import matplotlib\n",
    "import matplotlib.pyplot as plt                    # Standard plotting package\n",
    "import scipy\n",
    "\n",
    "from astropy import units as u              # This one helps with unit conversion\n",
    "from astropy.io import fits\n",
    "\n",
    "\n",
    "                                            # Super important!! \n",
    "                                            # This embeds plots in the Jupyter window \n",
    "                                            # (instead of showing them as pop-ups)\n",
    "%matplotlib inline                             \n",
    "\n",
    "plt.rc('font', family='sans-serif')  # Set plot fonts\n",
    "plt.rc('text', usetex=True)      \n",
    "plt.rc('text', usetex=False)        # This is a quick fix if you don't have latex on your computer\n"
   ]
  },
  {
   "cell_type": "code",
   "execution_count": 8,
   "metadata": {},
   "outputs": [
    {
     "name": "stdout",
     "output_type": "stream",
     "text": [
      "The Equilibrium Temp is 13.3 K\n"
     ]
    },
    {
     "data": {
      "image/png": "[encoded data removed]",
      "text/plain": [
       "<Figure size 432x288 with 1 Axes>"
      ]
     },
     "metadata": {
      "needs_background": "light"
     },
     "output_type": "display_data"
    }
   ],
   "source": [
    "a_c=1e-17*u.m**3/u.s\n",
    "T_e= np.logspace(1,2,50)\n",
    "L=8e-33 *T_e**(-0.5)*np.exp(-92/T_e)\n",
    "\n",
    "E=1.2*u.eV\n",
    "G_pi=E*a_c\n",
    "y=(G_pi.si.value/L)\n",
    "plt.plot(T_e,y)\n",
    "\n",
    "print(f\"The Equilibrium Temp is {T_e[np.where((y>0.9)&(y<1.1))[0][0]]*u.K:0.3}\")\n"
   ]
  },
  {
   "cell_type": "code",
   "execution_count": null,
   "metadata": {},
   "outputs": [],
   "source": []
  }
 ],
 "metadata": {
  "kernelspec": {
   "display_name": "Python 3",
   "language": "python",
   "name": "python3"
  },
  "language_info": {
   "codemirror_mode": {
    "name": "ipython",
    "version": 3
   },
   "file_extension": ".py",
   "mimetype": "text/x-python",
   "name": "python",
   "nbconvert_exporter": "python",
   "pygments_lexer": "ipython3",
   "version": "3.7.6"
  }
 },
 "nbformat": 4,
 "nbformat_minor": 4
}
