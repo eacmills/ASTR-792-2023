{
 "cells": [
  {
   "cell_type": "markdown",
   "metadata": {},
   "source": [
    "# Group/Individual Challenge!\n",
    "\n",
    "Find the abundance of H$_2$ in a cloud with density $n_H$ = $10^8$ m$^{-3}$ at a temperature of \n",
    "100 K that is necessary to give a cooling rate equal to that of C$^+$, assuming that \n",
    "$n_e$ = $n_{C+}$ = $10^4$  m$^{-3}$. \n",
    "\n",
    "Assume that at $T$ = 100 K,  \n",
    "\n",
    "$\\Lambda($H$_2) = 10^{-33}$ J s$^{-1}$ per H$_2$ molecule"
   ]
  },
  {
   "cell_type": "code",
   "execution_count": 1,
   "metadata": {},
   "outputs": [],
   "source": [
    "import numpy as np                          # I use this for maths and sometimes arrays.\n",
    "                                            # \"np\" is just an abbreviation since we call this package so often!\n",
    "import pylab                                # I use this for arrays and plotting sometimes\n",
    "import matplotlib\n",
    "import matplotlib.pyplot as plt                    # Standard plotting package\n",
    "import scipy\n",
    "\n",
    "from astropy import units as u              # This one helps with unit conversion\n",
    "from astropy.io import fits\n",
    "\n",
    "\n",
    "                                            # Super important!! \n",
    "                                            # This embeds plots in the Jupyter window \n",
    "                                            # (instead of showing them as pop-ups)\n",
    "%matplotlib inline                             \n",
    "\n",
    "plt.rc('font', family='sans-serif')  # Set plot fonts\n",
    "plt.rc('text', usetex=True)      \n",
    "plt.rc('text', usetex=False)        # This is a quick fix if you don't have latex on your computer\n",
    "\n",
    "\n"
   ]
  },
  {
   "cell_type": "code",
   "execution_count": 2,
   "metadata": {},
   "outputs": [
    {
     "name": "stdout",
     "output_type": "stream",
     "text": [
      "Abundance : 0.3188\n"
     ]
    }
   ],
   "source": [
    "nH = 1e8/u.m**3\n",
    "temp = 100\n",
    "Lam = 1e-33*u.kg*u.m**2/u.s**3\n",
    "ne = 1e4\n",
    "phi = 8e-33*ne**2*temp**(-0.5)*np.exp(-92/temp)*u.kg*u.m**2/u.s**2/u.m**3/u.s\n",
    "nH2 = phi/Lam\n",
    "abund = nH2/nH\n",
    "print(f\"Abundance : {abund:0.4}\")\n"
   ]
  }
 ],
 "metadata": {
  "kernelspec": {
   "display_name": "Python 3",
   "language": "python",
   "name": "python3"
  },
  "language_info": {
   "codemirror_mode": {
    "name": "ipython",
    "version": 3
   },
   "file_extension": ".py",
   "mimetype": "text/x-python",
   "name": "python",
   "nbconvert_exporter": "python",
   "pygments_lexer": "ipython3",
   "version": "3.7.6"
  }
 },
 "nbformat": 4,
 "nbformat_minor": 4
}
