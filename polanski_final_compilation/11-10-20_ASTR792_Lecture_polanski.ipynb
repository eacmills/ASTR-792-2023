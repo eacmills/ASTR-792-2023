{
 "cells": [
  {
   "cell_type": "markdown",
   "metadata": {},
   "source": [
    "# Group/Individual Challenge!\n",
    "\n",
    "The Boltzmann equation can be used to measure excitation temperature using observations multiple transitions of a molecule (see the **September 08** lecture) :\n",
    "\n",
    "$\\displaystyle \\frac{N_u}{N_l} = \\frac{g_u}{g_l} \\exp\\left(\\frac{E_l - E_u}{k_B T_{ex}}\\right)$\n",
    "\n",
    "(1) Rewrite the Boltzmann equation as a function of $T_{ex}$, log$_{10}(N_u/g_u)$, and log$_{10}(N_l/g_l)$, and put this into the form of a slope of a line, e.g., $m = \\left(\\frac{y_2-y_1}{x_2-x_1}\\right)$ \n",
    "\n",
    "(2) Use this relation to plot the following data set of NH$_3$ observations as a function of $E$. \n",
    "\n",
    "\n",
    "| **(J,K)** | **Energy** | **Column Density**|\n",
    "| :- | :- | :- |\n",
    "|  | $E/k_B$ (K) | $N$ (cm$^{-2}$) |\n",
    "| (8,8)   | 686.8  | $4.8\\times10^{13}$ |\n",
    "| (9,9)   | 852.8  | $6.1\\times10^{13}$ |\n",
    "| (10,10) | 1036.4 | $1.5\\times10^{13}$ |\n",
    "| (11,11) | 1237.6 | $9.0\\times10^{12}$ |\n",
    "| (12,12) | 1456.4 | $1.4\\times10^{13}$ |\n",
    "| (13,13) | 1692.7 | $3.5\\times10^{12}$ |\n",
    "\n",
    "\n",
    "(3) Fit a slope to these data and use this to determine the excitation temperature (Note that for NH$_3$, T$_{ex}$ measured in this way is a good approximation for the true kinetic temperature $T_{kin}$).\n",
    "\n",
    "\n",
    "\n"
   ]
  },
  {
   "cell_type": "code",
   "execution_count": 9,
   "metadata": {},
   "outputs": [],
   "source": [
    "import numpy as np                          # I use this for maths and sometimes arrays.\n",
    "                                            # \"np\" is just an abbreviation since we call this package so often!\n",
    "import pylab                                # I use this for arrays and plotting sometimes\n",
    "import matplotlib\n",
    "import matplotlib.pyplot as plt                    # Standard plotting package\n",
    "import scipy\n",
    "\n",
    "from astropy import units as u              # This one helps with unit conversion\n",
    "from astropy.io import fits\n",
    "from scipy.optimize import curve_fit\n",
    "\n",
    "\n",
    "                                            # Super important!! \n",
    "                                            # This embeds plots in the Jupyter window \n",
    "                                            # (instead of showing them as pop-ups)\n",
    "%matplotlib inline                             \n",
    "\n",
    "plt.rc('font', family='sans-serif')  # Set plot fonts\n",
    "plt.rc('text', usetex=True)      \n",
    "plt.rc('text', usetex=False)        # This is a quick fix if you don't have latex on your computer\n",
    "\n",
    "\n"
   ]
  },
  {
   "cell_type": "markdown",
   "metadata": {},
   "source": [
    "# Rearranging the Equation\n",
    "\n",
    "Noting that $\\ln{x} = 2.303 \\log{x}$\n",
    "\n",
    "Taking the natural log of both sides and defining $E \\equiv -(E_u - E_l)$, \n",
    "\n",
    "$\\ln{\\frac{N_{u}g_{l}}{N_{l}g_{u}}} = \\frac{-E}{k_B T_{exp}}$\n",
    "\n",
    "$\\ln{\\frac{N_u}{g_u}}-\\ln{\\frac{N_l}{g_l}} = \\frac{-E}{k_B T_{exp}}$\n",
    "\n",
    "Converting to log-base 10:\n",
    "\n",
    "$\\log{\\frac{N_u}{g_u}}-\\log{\\frac{N_l}{g_l}} = \\frac{-E}{2.303 k_B T_{exp}}$\n",
    "\n",
    "The slope of the equation is, \n",
    "\n",
    "$m = \\frac{-1}{2.303  T_{exp}}$"
   ]
  },
  {
   "cell_type": "code",
   "execution_count": 22,
   "metadata": {},
   "outputs": [
    {
     "name": "stdout",
     "output_type": "stream",
     "text": [
      "The Excitation Temperature is 333.5 K\n"
     ]
    },
    {
     "data": {
      "text/plain": [
       "<matplotlib.collections.PathCollection at 0x7f9b8604f210>"
      ]
     },
     "execution_count": 22,
     "metadata": {},
     "output_type": "execute_result"
    },
    {
     "data": {
      "image/png": "[encoded data removed]",
      "text/plain": [
       "<Figure size 720x504 with 1 Axes>"
      ]
     },
     "metadata": {
      "needs_background": "light"
     },
     "output_type": "display_data"
    }
   ],
   "source": [
    "#Plotting the data\n",
    "#Gether the table in the array\n",
    "J = np.array([8,9,10,11,12,13])\n",
    "E = np.array([686.8,852.8,1036.4,1237.6,1456.4,1692.7])\n",
    "N = np.array([4.8e13,6.1e13,1.5e13,9.0e12,1.4e13,3.5e12])\n",
    "gs = np.array([1,2,1,1,2,1])\n",
    "\n",
    "#Fit for the line\n",
    "def linear(x,m,b):\n",
    "    return(m*x+b)\n",
    "\n",
    "popt, pcov = curve_fit(linear, E, np.log10(N/(gs*(2*J+1))))\n",
    "\n",
    "#Get T_exc from the slope\n",
    "\n",
    "T_exc = -1/(2.303*popt[0])\n",
    "\n",
    "print(f\"The Excitation Temperature is {T_exc:0.4} K\")\n",
    "\n",
    "#Plotting stuff\n",
    "vals = np.linspace(700,1700,100)\n",
    "plt.figure(figsize=(10,7))\n",
    "plt.plot(vals,linear(vals,popt[0],popt[1]),color='red')\n",
    "plt.xlabel('Energy (K)',fontsize=20)\n",
    "plt.ylabel('log$_{10}\\\\left[ \\\\frac{N}{g_{op}(2J+1)}\\\\right]$',fontsize=20)\n",
    "plt.scatter(E,np.log10(N/(gs*(2*J+1))))\n",
    "\n"
   ]
  },
  {
   "cell_type": "markdown",
   "metadata": {},
   "source": [
    "I enjoyed this exercise probably the most out of any of them prurely because it was good mix of doing actual math plus graphing data and getting a result from the fit."
   ]
  },
  {
   "cell_type": "code",
   "execution_count": null,
   "metadata": {},
   "outputs": [],
   "source": []
  }
 ],
 "metadata": {
  "kernelspec": {
   "display_name": "Python 3",
   "language": "python",
   "name": "python3"
  },
  "language_info": {
   "codemirror_mode": {
    "name": "ipython",
    "version": 3
   },
   "file_extension": ".py",
   "mimetype": "text/x-python",
   "name": "python",
   "nbconvert_exporter": "python",
   "pygments_lexer": "ipython3",
   "version": "3.7.6"
  }
 },
 "nbformat": 4,
 "nbformat_minor": 4
}
